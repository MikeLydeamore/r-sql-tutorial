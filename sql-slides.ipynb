{
  "cells": [
    {
      "cell_type": "raw",
      "metadata": {},
      "source": [
        "---\n",
        "title: \"A noobs guide to SQL\"\n",
        "author: \"Michael Lydeamore\"\n",
        "format: \n",
        "    revealjs:\n",
        "        theme: \n",
        "            - beige\n",
        "            - custom_theming.scss\n",
        "---"
      ],
      "id": "1e8ddb7a"
    },
    {
      "cell_type": "markdown",
      "metadata": {},
      "source": [
        "## What is SQL\n",
        "\n",
        "::: {.fragment}\n",
        "SQL stands for \"Structured Query Language\"\n",
        ":::\n",
        "::: {.fragment .fade-in}\n",
        "Designed to access data stored in relational database management system\n",
        ":::\n",
        "::: {.fragment .fade-in}\n",
        "Loads of these systems exist:\n",
        ":::\n",
        "::: {.incremental}\n",
        "* MySQL\n",
        "* Microsoft SQL\n",
        "* Oracle SQL\n",
        "* [SQLite]{.fragment .highlight-red}\n",
        ":::\n",
        "\n",
        "## SQLite\n",
        "\n",
        "A traditional SQL database requires it's own application (and these days gets it's own cloud machine).\n",
        "\n",
        "If you have a heavy application, or lots of users reading from a single database, then one should definitely take this approach.\n",
        "\n",
        "For today, and ease of use, we will use [SQLite]{.red}\n",
        "\n",
        "SQLite is an [embedded database]{.red}, so it is a file on a disk rather than a program.\n",
        "\n",
        "::: {.fragment}\n",
        "No special programs to install!\n",
        ":::\n",
        "\n",
        "## SQL as a System\n",
        "\n",
        "Great if you are an _angry_ person:\n",
        "\n",
        "\n",
        "```{sql}\n",
        "SELECT * FROM my_database;\n",
        "```"
      ],
      "id": "7232e1de"
    }
  ],
  "metadata": {
    "kernelspec": {
      "display_name": "Python 3",
      "language": "python",
      "name": "python3"
    }
  },
  "nbformat": 4,
  "nbformat_minor": 5
}